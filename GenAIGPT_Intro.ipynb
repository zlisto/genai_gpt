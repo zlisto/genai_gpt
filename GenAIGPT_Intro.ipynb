{
 "cells": [
  {
   "cell_type": "markdown",
   "id": "2f4df874",
   "metadata": {},
   "source": [
    "# Clones, Installs, Imports"
   ]
  },
  {
   "cell_type": "code",
   "execution_count": null,
   "id": "5bcdcbeb",
   "metadata": {},
   "outputs": [],
   "source": [
    "!git clone https://github.com/zlisto/genai_gpt\n",
    "\n",
    "import os\n",
    "os.chdir(\"genai_gpt\")"
   ]
  },
  {
   "cell_type": "code",
   "execution_count": null,
   "id": "97e98aec",
   "metadata": {},
   "outputs": [],
   "source": [
    "pip install -q -r requirements.txt\n"
   ]
  },
  {
   "cell_type": "code",
   "execution_count": 1,
   "id": "e28ff1c0",
   "metadata": {},
   "outputs": [],
   "source": [
    "import os\n",
    "from genai import GenAI  # Import the GenAI class correctly\n",
    "\n",
    "# Import local API keys from config.py, uncomment if not deploying to Heroku\n",
    "from config import *  \n",
    "\n"
   ]
  },
  {
   "cell_type": "markdown",
   "id": "d93d5bac",
   "metadata": {},
   "source": [
    "## OpenAI API Key\n",
    "\n",
    "Enter your OpenAI API key in the config.py file as a string.  Alternatively, you can just paste it in the cell below as:\n",
    "\n",
    "`os.environ['OPENAI_API_KEY'] = '<your API KEY>'`\n",
    "\n",
    "but this is bad practice :(.\n"
   ]
  },
  {
   "cell_type": "code",
   "execution_count": 2,
   "id": "b47485b6",
   "metadata": {},
   "outputs": [],
   "source": [
    "#os.environ['OPENAI_API_KEY'] = '<your API KEY>'  #Uncomment this if you are lazy, but this is bad practice\n",
    "OPENAI_API_KEY = os.environ['OPENAI_API_KEY']\n",
    "\n",
    "jarvis = GenAI(OPENAI_API_KEY)"
   ]
  },
  {
   "cell_type": "markdown",
   "id": "b3bbee4e",
   "metadata": {},
   "source": [
    "# Text Generation"
   ]
  },
  {
   "cell_type": "code",
   "execution_count": 3,
   "id": "195eb288",
   "metadata": {},
   "outputs": [
    {
     "name": "stdout",
     "output_type": "stream",
     "text": [
      "I’m Jarvis, your AI assistant. My purpose is to provide information, answer questions, and assist you with a variety of tasks to make your life easier. How can I help you today?\n"
     ]
    }
   ],
   "source": [
    "instructions = \"You are Jarvis, my AI assistant\"\n",
    "prompt = \"What is your name and purpose?\"\n",
    "\n",
    "response = jarvis.generate_text(prompt, instructions)  # Corrected method call\n",
    "\n",
    "print(response)"
   ]
  },
  {
   "cell_type": "markdown",
   "id": "ea7c2042",
   "metadata": {},
   "source": [
    "# Reading PDFs"
   ]
  },
  {
   "cell_type": "code",
   "execution_count": 4,
   "id": "ccbdba46",
   "metadata": {},
   "outputs": [
    {
     "name": "stdout",
     "output_type": "stream",
     "text": [
      "Jarvis: The title of the paper is \"Attention Is All You Need.\"\n"
     ]
    }
   ],
   "source": [
    "filepath_pdf = 'data/NIPS-2017-attention-is-all-you-need-Paper.pdf'\n",
    "\n",
    "text = jarvis.read_pdf(filepath_pdf)\n",
    "\n",
    "instructions = \"You are Jarvis, my AI assistant\"\n",
    "prompt = f\"What is the title of this paper?\\n{text}\"\n",
    "\n",
    "response = jarvis.generate_text(prompt, instructions)  # Corrected method call\n",
    "print(f\"Jarvis: {response}\")"
   ]
  },
  {
   "cell_type": "markdown",
   "id": "f50ef2fe",
   "metadata": {},
   "source": [
    "# Analyze Images"
   ]
  },
  {
   "cell_type": "code",
   "execution_count": 5,
   "id": "c6708bf9",
   "metadata": {},
   "outputs": [
    {
     "name": "stdout",
     "output_type": "stream",
     "text": [
      "Jarvis: If Kendrick Lamar were seeing an image of himself performing live in the front row, he might shout something like:\n",
      "\n",
      "\"Let's go! Feel that energy! We out here!\" \n",
      "\n",
      "This would capture the excitement and connection he often shares with his audience.\n"
     ]
    }
   ],
   "source": [
    "filepath_image = 'data/kendric_la_popup.jpg'\n",
    "instructions = '''What would a Kendrick Lamar fan seeing \n",
    "    this image live in person in the front row shout?'''\n",
    "\n",
    "response = jarvis.generate_image_description(filepath_image, instructions)\n",
    "print(f\"Jarvis: {response}\")"
   ]
  },
  {
   "cell_type": "markdown",
   "id": "d11b4f76",
   "metadata": {},
   "source": [
    "# Analyze Videos"
   ]
  },
  {
   "cell_type": "code",
   "execution_count": 6,
   "id": "abddc6aa",
   "metadata": {},
   "outputs": [
    {
     "name": "stdout",
     "output_type": "stream",
     "text": [
      "Jarvis: The video showcases two individuals demonstrating the technique of \"The Teep,\" a technique used in martial arts like Muay Thai. \n",
      "\n",
      "1. **Starting Position**: The two fighters stand in front of each other, in a guard position, preparing to demonstrate the movement.\n",
      "   \n",
      "2. **Execution of The Teep (Knee Push Kick)**: They demonstrate the steps involved in executing a Teep. This kick involves extending one leg towards the opponent, aimed primarily at pushing them away or interrupting their movement.\n",
      "   \n",
      "3. **Footwork and Timing**: The video emphasizes the importance of foot positioning and timing, highlighting how to maintain balance while delivering the kick.\n",
      "\n",
      "4. **Final Impact**: In the later frames, you see the impact of one fighter’s Teep hitting their opponent, showing the technique's effectiveness in a controlled training environment.\n",
      "\n",
      "Each step is likely meant to guide viewers on how to perform the Teep correctly and its application during training or sparring sessions.\n"
     ]
    }
   ],
   "source": [
    "filepath_video = 'data/superbon_teeping.mp4'\n",
    "instructions = '''Describe whats happening in this video'''\n",
    "\n",
    "response = jarvis.generate_video_description(filepath_video, instructions)\n",
    "print(f\"Jarvis: {response}\")"
   ]
  },
  {
   "cell_type": "code",
   "execution_count": null,
   "id": "04226f7e",
   "metadata": {},
   "outputs": [],
   "source": []
  }
 ],
 "metadata": {
  "kernelspec": {
   "display_name": "Python 3 (ipykernel)",
   "language": "python",
   "name": "python3"
  },
  "language_info": {
   "codemirror_mode": {
    "name": "ipython",
    "version": 3
   },
   "file_extension": ".py",
   "mimetype": "text/x-python",
   "name": "python",
   "nbconvert_exporter": "python",
   "pygments_lexer": "ipython3",
   "version": "3.9.13"
  }
 },
 "nbformat": 4,
 "nbformat_minor": 5
}
